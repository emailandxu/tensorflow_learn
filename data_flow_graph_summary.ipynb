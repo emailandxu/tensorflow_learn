{
 "cells": [
  {
   "cell_type": "code",
   "execution_count": 1,
   "metadata": {},
   "outputs": [],
   "source": [
    "import tensorflow as tf\n",
    "import numpy as np"
   ]
  },
  {
   "cell_type": "code",
   "execution_count": 2,
   "metadata": {},
   "outputs": [],
   "source": [
    "graph = tf.Graph()"
   ]
  },
  {
   "cell_type": "code",
   "execution_count": 3,
   "metadata": {},
   "outputs": [
    {
     "name": "stdout",
     "output_type": "stream",
     "text": [
      "WARNING:tensorflow:From /home/oem/.local/lib/python3.5/site-packages/tensorflow/python/util/tf_should_use.py:189: initialize_all_variables (from tensorflow.python.ops.variables) is deprecated and will be removed after 2017-03-02.\n",
      "Instructions for updating:\n",
      "Use `tf.global_variables_initializer` instead.\n"
     ]
    }
   ],
   "source": [
    "with graph.as_default():\n",
    "    \n",
    "    with tf.name_scope(\"variables\"):\n",
    "        # 记录数据流图运行次数的Variable对象\n",
    "        global_step = tf.Variable(0, dtype=tf.int32, trainable=False, name=\"global_step\")\n",
    "        # 追踪该模型的所有输出随时间的累加和的Variable对象\n",
    "        total_output = tf.Variable(0,dtype=tf.float32, trainable=False, name=\"total_output\")\n",
    "    \n",
    "    with tf.name_scope(\"transformation\"):\n",
    "        \n",
    "        # 独立的输入层\n",
    "        with tf.name_scope(\"input\"):\n",
    "            # 创建输入占位符，用于接受一个向量\n",
    "            a = tf.placeholder(tf.float32, shape=[None], name=\"input_placeholder_a\")\n",
    "        \n",
    "        # 独立的中间层\n",
    "        with tf.name_scope(\"intermediate_layer\"):\n",
    "            b = tf.reduce_prod(a,name=\"product_b\")\n",
    "            c = tf.reduce_sum(a,name=\"sum_c\")\n",
    "        \n",
    "        # 独立的输出层\n",
    "        with tf.name_scope(\"output\"):\n",
    "            output = tf.add(b,c,name=\"output\")\n",
    "    \n",
    "    with tf.name_scope(\"update\"):\n",
    "        # 用最新的输出更新total_output Variable对象\n",
    "        update_total = total_output.assign_add(output)\n",
    "\n",
    "        # 将global_step 增1, 只要数据流图运行，该操作需要一直进行\n",
    "        increment_step = global_step.assign_add(1)\n",
    "        \n",
    "    with tf.name_scope(\"summaries\"):\n",
    "        avg = tf.div(update_total, tf.cast(increment_step, tf.float32), name=\"average\")\n",
    "\n",
    "        # 为输出节点创建汇总数据\n",
    "        tf.summary.scalar(\"output_summary\", output )\n",
    "        tf.summary.scalar(\"total_summary\", update_total)\n",
    "        tf.summary.scalar(\"average_summary\", avg)\n",
    "\n",
    "    with tf.name_scope(\"global_ops\"):\n",
    "        # 初始化Op\n",
    "        init = tf.initialize_all_variables()\n",
    "        # 将所有汇总数据合并到一个Op中\n",
    "        merged_summaries = tf.summary.merge_all()"
   ]
  },
  {
   "cell_type": "code",
   "execution_count": 4,
   "metadata": {},
   "outputs": [],
   "source": [
    "with tf.Session(graph=graph) as sess:\n",
    "    writer = tf.summary.FileWriter(\"./improved_graph\", graph)\n",
    "\n",
    "    sess.run(init)\n",
    "\n",
    "    def run_graph(input_tensor):\n",
    "        feed_dict = {a: input_tensor}\n",
    "        _, step, summary = sess.run([output, increment_step, merged_summaries],\n",
    "                                    feed_dict=feed_dict)\n",
    "        writer.add_summary(summary, global_step=step)\n",
    "        \n",
    "    run_graph([2,8])\n",
    "    run_graph([3,1,3,3])\n",
    "    run_graph([8])\n",
    "    run_graph([1,2,3])\n",
    "    run_graph([11,4])\n",
    "    run_graph([4,1])"
   ]
  },
  {
   "cell_type": "code",
   "execution_count": 5,
   "metadata": {},
   "outputs": [],
   "source": [
    "writer.flush()"
   ]
  }
 ],
 "metadata": {
  "kernelspec": {
   "display_name": "Python 3",
   "language": "python",
   "name": "python3"
  },
  "language_info": {
   "codemirror_mode": {
    "name": "ipython",
    "version": 3
   },
   "file_extension": ".py",
   "mimetype": "text/x-python",
   "name": "python",
   "nbconvert_exporter": "python",
   "pygments_lexer": "ipython3",
   "version": "3.5.2"
  },
  "varInspector": {
   "cols": {
    "lenName": 16,
    "lenType": 16,
    "lenVar": 40
   },
   "kernels_config": {
    "python": {
     "delete_cmd_postfix": "",
     "delete_cmd_prefix": "del ",
     "library": "var_list.py",
     "varRefreshCmd": "print(var_dic_list())"
    },
    "r": {
     "delete_cmd_postfix": ") ",
     "delete_cmd_prefix": "rm(",
     "library": "var_list.r",
     "varRefreshCmd": "cat(var_dic_list()) "
    }
   },
   "types_to_exclude": [
    "module",
    "function",
    "builtin_function_or_method",
    "instance",
    "_Feature"
   ],
   "window_display": false
  }
 },
 "nbformat": 4,
 "nbformat_minor": 2
}
